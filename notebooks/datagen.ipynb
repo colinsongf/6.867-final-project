{
 "cells": [
  {
   "cell_type": "code",
   "execution_count": 46,
   "metadata": {},
   "outputs": [],
   "source": [
    "import scipy.io.wavfile\n",
    "import numpy as np"
   ]
  },
  {
   "cell_type": "code",
   "execution_count": 72,
   "metadata": {},
   "outputs": [],
   "source": [
    "def get_random_cropped_wavfile(path, crop_length=3):\n",
    "    \"\"\"\n",
    "    length is in seconds (int)\n",
    "    \"\"\"\n",
    "    rate, data = scipy.io.wavfile.read(path)\n",
    "    length = len(data)\n",
    "    crop_start = np.random.randint(length - crop_length * rate)\n",
    "    crop = data[crop_start : crop_start + crop_length * rate]\n",
    "    return crop\n",
    "\n",
    "\n",
    "def classification_chunks(name,\n",
    "                          chunk_size=10000,\n",
    "                          vcb_root=\"/home/ubuntu/data/voxceleb1_wav\",\n",
    "                          split_txt=\"/home/ubuntu/data/id-split.txt\"):\n",
    "    labels = {\n",
    "        'train': 1,\n",
    "        'val': 2,\n",
    "        'test': 3\n",
    "    }\n",
    "    label = labels[name]\n",
    "        \n",
    "    with open(split_txt) as f:\n",
    "        paths = [line.rstrip().split(\" \") for line in f.readlines()]\n",
    "        \n",
    "    for i in range(len(paths)):\n",
    "        paths[i][0] = int(paths[i][0])\n",
    "    paths = list(filter(lambda x: x[0] == label, paths))\n",
    "    paths = [p[1] for p in paths]\n",
    "    np.random.shuffle(paths)\n",
    "    \n",
    "    for i in range(0, len(paths), chunk_size):\n",
    "        chunk = paths[i : min(len(paths), i + chunk_size)]\n",
    "        names = [p.split(\"/\")[0] for p in chunk]\n",
    "        wavs = np.array([get_random_cropped_wavfile(vcb_root + \"/\" + p)\n",
    "                         for p in chunk])\n",
    "        yield wavs, names"
   ]
  },
  {
   "cell_type": "code",
   "execution_count": 73,
   "metadata": {},
   "outputs": [
    {
     "name": "stdout",
     "output_type": "stream",
     "text": [
      "(10000, 48000)\n",
      "10000\n",
      "[-649 2466  153 ...,  914  691  621]\n",
      "Will_Poulter\n",
      "CPU times: user 1.54 s, sys: 3.25 s, total: 4.79 s\n",
      "Wall time: 33.6 s\n"
     ]
    }
   ],
   "source": [
    "%%time\n",
    "for x, y in classification_chunks('train'):\n",
    "    print(x.shape)\n",
    "    print(len(y))\n",
    "    print(x[0])\n",
    "    print(y[0])\n",
    "    break"
   ]
  },
  {
   "cell_type": "code",
   "execution_count": 17,
   "metadata": {},
   "outputs": [
    {
     "name": "stdout",
     "output_type": "stream",
     "text": [
      "[4, 4, 4]\n"
     ]
    }
   ],
   "source": [
    "a = [4, 4, 4]\n",
    "for i, x in enumerate(a):\n",
    "    x = i\n",
    "print(a)"
   ]
  },
  {
   "cell_type": "code",
   "execution_count": 6,
   "metadata": {},
   "outputs": [
    {
     "name": "stdout",
     "output_type": "stream",
     "text": [
      "[3 2 4 1 0]\n"
     ]
    }
   ],
   "source": [
    "print(np.random.permutation(5))"
   ]
  },
  {
   "cell_type": "code",
   "execution_count": 34,
   "metadata": {},
   "outputs": [
    {
     "data": {
      "text/plain": [
       "array([[0, 1, 2, 3, 4],\n",
       "       [0, 1, 2, 3, 4]])"
      ]
     },
     "execution_count": 34,
     "metadata": {},
     "output_type": "execute_result"
    }
   ],
   "source": [
    "np.array([np.arange(5), np.arange(5)])"
   ]
  },
  {
   "cell_type": "code",
   "execution_count": null,
   "metadata": {},
   "outputs": [],
   "source": []
  }
 ],
 "metadata": {
  "kernelspec": {
   "display_name": "Python [default]",
   "language": "python",
   "name": "python3"
  },
  "language_info": {
   "codemirror_mode": {
    "name": "ipython",
    "version": 3
   },
   "file_extension": ".py",
   "mimetype": "text/x-python",
   "name": "python",
   "nbconvert_exporter": "python",
   "pygments_lexer": "ipython3",
   "version": "3.6.3"
  }
 },
 "nbformat": 4,
 "nbformat_minor": 2
}
