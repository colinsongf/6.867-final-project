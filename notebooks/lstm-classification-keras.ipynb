{
 "cells": [
  {
   "cell_type": "code",
   "execution_count": 1,
   "metadata": {},
   "outputs": [
    {
     "name": "stderr",
     "output_type": "stream",
     "text": [
      "Using TensorFlow backend.\n",
      "/home/ubuntu/anaconda3/envs/tensorflow_p36/lib/python3.6/importlib/_bootstrap.py:219: RuntimeWarning: compiletime version 3.5 of module 'tensorflow.python.framework.fast_tensor_util' does not match runtime version 3.6\n",
      "  return f(*args, **kwds)\n"
     ]
    }
   ],
   "source": [
    "import numpy as np\n",
    "from sklearn.preprocessing import LabelEncoder\n",
    "import scipy.io.wavfile\n",
    "\n",
    "import keras\n",
    "from keras.utils import np_utils"
   ]
  },
  {
   "cell_type": "code",
   "execution_count": 2,
   "metadata": {},
   "outputs": [],
   "source": [
    "class VCBSequence(keras.utils.Sequence):\n",
    "    \n",
    "    def __init__(self, partition, crop_length=2*16000, batch_size=512,\n",
    "                 shuffle=True, random_seed=42,\n",
    "                 sr=16000,\n",
    "                 vcb_root=\"/home/ubuntu/data/voxceleb1_wav\",\n",
    "                 split_txt=\"/home/ubuntu/data/id-split.txt\"):\n",
    "        \"\"\"\n",
    "        partition: one of \"train\", \"val\", \"test\"\n",
    "        crop_length: length in samples\n",
    "        \"\"\"\n",
    "        partition_map = {\n",
    "            'train': 1,\n",
    "            'val': 2,\n",
    "            'test': 3\n",
    "        }\n",
    "        self.partition = partition_map[partition]\n",
    "        \n",
    "        self.sr = sr\n",
    "        self.crop_length = crop_length\n",
    "        self.batch_size = batch_size\n",
    "        self.vcb_root = vcb_root\n",
    "        self.split_txt = split_txt\n",
    "        \n",
    "        with open(self.split_txt) as f:\n",
    "            lines = [line.rstrip() for line in f.readlines()]\n",
    "        if shuffle:\n",
    "            np.random.seed(random_seed)\n",
    "            np.random.shuffle(lines)\n",
    "        \n",
    "        self.paths = [line.split(\" \") for line in lines]\n",
    "        for i in range(len(self.paths)):\n",
    "            self.paths[i][0] = int(self.paths[i][0])\n",
    "        \n",
    "        self.all_names = [p[1].split(\"/\")[0] for p in self.paths]\n",
    "        self.encoder = LabelEncoder()\n",
    "        self.encoder.fit(self.all_names)\n",
    "        self.classes = np_utils.to_categorical(self.encoder.transform(self.all_names))\n",
    "        keep = list(filter(lambda x: x[1][0] == self.partition, enumerate(self.paths)))\n",
    "        keep = [x[0] for x in keep]\n",
    "        self.classes = self.classes[keep]\n",
    "            \n",
    "        self.paths = list(filter(lambda x: x[0] == self.partition, self.paths))\n",
    "        self.paths = [p[1] for p in self.paths]\n",
    "        \n",
    "    def __len__(self):\n",
    "        ret = len(self.paths) // self.batch_size\n",
    "        if len(self.paths) % len(self.paths) != 0:\n",
    "            ret += 1\n",
    "        return ret\n",
    "\n",
    "    def get_random_cropped_wavfile(self, path):\n",
    "        rate, data = scipy.io.wavfile.read(self.vcb_root + \"/\" + path)\n",
    "        assert rate == self.sr\n",
    "        length = len(data)\n",
    "        crop_start = np.random.randint(length - self.crop_length)\n",
    "        crop = data[crop_start : crop_start + self.crop_length]\n",
    "        return crop\n",
    "    \n",
    "    def __getitem__(self, idx):\n",
    "        batch_paths = self.paths[idx * self.batch_size:(idx + 1) * self.batch_size]\n",
    "        x = np.zeros((len(batch_paths), self.sr * self.crop_length))\n",
    "        for i, p in enumerate(batch_paths):\n",
    "            x[i] = self.get_random_cropped_wavfile(p)\n",
    "        \n",
    "        y = self.classes[idx * self.batch_size : min((idx + 1) * self.batch_size,\n",
    "                                                     self.classes.shape[0])]\n",
    "        \n",
    "        return x, y"
   ]
  },
  {
   "cell_type": "code",
   "execution_count": 4,
   "metadata": {},
   "outputs": [
    {
     "name": "stdout",
     "output_type": "stream",
     "text": [
      "_________________________________________________________________\n",
      "Layer (type)                 Output Shape              Param #   \n",
      "=================================================================\n",
      "reshape_2 (Reshape)          (None, 1, None)           0         \n",
      "_________________________________________________________________\n",
      "melgram (Melspectrogram)     (None, 512, None, 1)      1313280   \n",
      "_________________________________________________________________\n",
      "normalization2d_1 (Normaliza (None, 512, None, 1)      0         \n",
      "_________________________________________________________________\n",
      "reshape_3 (Reshape)          (None, 512, None)         0         \n",
      "_________________________________________________________________\n",
      "permute_1 (Permute)          (None, None, 512)         0         \n",
      "_________________________________________________________________\n",
      "lstm_1 (LSTM)                (None, None, 256)         787456    \n",
      "_________________________________________________________________\n",
      "global_average_pooling1d_1 ( (None, 256)               0         \n",
      "_________________________________________________________________\n",
      "dense_1 (Dense)              (None, 1251)              321507    \n",
      "=================================================================\n",
      "Total params: 2,422,243\n",
      "Trainable params: 1,108,963\n",
      "Non-trainable params: 1,313,280\n",
      "_________________________________________________________________\n"
     ]
    }
   ],
   "source": [
    "import keras\n",
    "from keras.models import Sequential\n",
    "from keras.layers import LSTM, Dense\n",
    "\n",
    "import kapre\n",
    "from kapre.time_frequency import Melspectrogram\n",
    "from utils.normalization2d import Normalization2D\n",
    "\n",
    "\n",
    "HIDDEN_DIM = 256\n",
    "\n",
    "model = Sequential()\n",
    "\n",
    "SR = 16000 # sampling rate\n",
    "CROP_LENGTH = 128 * 256\n",
    "BATCH_SIZE = 512\n",
    "#train_gen = VCBSequence('train', sr=SR, crop_length=CROP_LENGTH, batch_size=BATCH_SIZE)\n",
    "#val_data = VCBSequence('val', sr=SR, crop_length=CROP_LENGTH, batch_size=10000)[0]\n",
    "#test_gen = VCBSequence('test', sr=SR, crop_length=CROP_LENGTH, batch_size=BATCH_SIZE)\n",
    "model.add(keras.layers.Reshape((1, -1), input_shape=(None,)))\n",
    "\n",
    "N_MELS = 512\n",
    "N_FFT = 1024\n",
    "N_HOP = 128\n",
    "model.add(Melspectrogram(sr=SR, n_mels=N_MELS, \n",
    "      n_dft=N_FFT, n_hop=N_HOP, \n",
    "      return_decibel_melgram=True, power_melgram=2.0,\n",
    "      trainable_kernel=False, name='melgram', input_shape=(1, None)))\n",
    "model.add(Normalization2D(int_axis=2))\n",
    "model.add(keras.layers.Reshape((N_MELS, -1)))\n",
    "model.add(keras.layers.Permute((2, 1)))\n",
    "model.add(LSTM(HIDDEN_DIM, return_sequences=True))\n",
    "model.add(keras.layers.GlobalAveragePooling1D())\n",
    "\n",
    "NUM_PEOPLE = len(VCBSequence('test').encoder.classes_)\n",
    "model.add(Dense(NUM_PEOPLE, activation='softmax'))\n",
    "\n",
    "model.summary()"
   ]
  },
  {
   "cell_type": "code",
   "execution_count": null,
   "metadata": {},
   "outputs": [],
   "source": [
    "print(val_data[0].shape, val_data[1].shape)"
   ]
  },
  {
   "cell_type": "code",
   "execution_count": null,
   "metadata": {},
   "outputs": [],
   "source": [
    "model = keras.models.load_model(\"/home/ubuntu/models/save/2second-crop-05-0.28.hdf5\",\n",
    "                                custom_objects={\n",
    "                                    \"Melspectrogram\": Melspectrogram,\n",
    "                                    \"Normalization2D\": kapre.utils.Normalization2D\n",
    "                                })"
   ]
  },
  {
   "cell_type": "code",
   "execution_count": null,
   "metadata": {},
   "outputs": [],
   "source": [
    "LEARNING_RATE = 1e-3\n",
    "rmsprop = keras.optimizers.Adam(lr=LEARNING_RATE)\n",
    "\n",
    "def top_k(y_true, y_pred):\n",
    "    return keras.metrics.top_k_categorical_accuracy(y_true, y_pred, k=5) # change k here\n",
    "model.compile(optimizer=rmsprop,\n",
    "              loss='categorical_crossentropy', # loss function to be optimized\n",
    "              metrics=['accuracy', top_k]) # doesn't affect optimization"
   ]
  },
  {
   "cell_type": "code",
   "execution_count": null,
   "metadata": {},
   "outputs": [],
   "source": [
    "from keras.callbacks import ModelCheckpoint, ReduceLROnPlateau\n",
    "from utils.custom_callbacks import TensorBoard\n",
    "\n",
    "checkpoint_filepath=\"/home/ubuntu/models/2second-crop-{epoch:02d}-{val_acc:.2f}.hdf5\"\n",
    "checkpoint = ModelCheckpoint(checkpoint_filepath, monitor='val_acc', verbose=1, save_best_only=True, mode='max')\n",
    "\n",
    "tensorboard = TensorBoard(log_dir=\"/home/ubuntu/tflogs/cur\",\n",
    "                          write_batch_performance=True,\n",
    "                          write_graph=False,\n",
    "                          batch_size=BATCH_SIZE)\n",
    "\n",
    "reduce_lr = ReduceLROnPlateau(monitor='val_loss', factor=0.2,\n",
    "                              patience=5, min_lr=1e-5)"
   ]
  },
  {
   "cell_type": "code",
   "execution_count": null,
   "metadata": {},
   "outputs": [],
   "source": [
    "model.fit_generator(train_gen, validation_data=val_data, epochs=30,\n",
    "                    callbacks=[checkpoint, tensorboard, reduce_lr],\n",
    "                    workers=5)"
   ]
  },
  {
   "cell_type": "code",
   "execution_count": null,
   "metadata": {},
   "outputs": [],
   "source": [
    "model.evaluate_generator(train_gen)"
   ]
  },
  {
   "cell_type": "code",
   "execution_count": null,
   "metadata": {},
   "outputs": [],
   "source": [
    "model.evaluate_generator(val_gen)"
   ]
  },
  {
   "cell_type": "code",
   "execution_count": null,
   "metadata": {},
   "outputs": [],
   "source": [
    "model.evaluate_generator(test_gen)"
   ]
  },
  {
   "cell_type": "code",
   "execution_count": null,
   "metadata": {},
   "outputs": [],
   "source": []
  }
 ],
 "metadata": {
  "kernelspec": {
   "display_name": "Python [conda env:tensorflow_p36]",
   "language": "python",
   "name": "conda-env-tensorflow_p36-py"
  },
  "language_info": {
   "codemirror_mode": {
    "name": "ipython",
    "version": 3
   },
   "file_extension": ".py",
   "mimetype": "text/x-python",
   "name": "python",
   "nbconvert_exporter": "python",
   "pygments_lexer": "ipython3",
   "version": "3.6.3"
  }
 },
 "nbformat": 4,
 "nbformat_minor": 2
}
