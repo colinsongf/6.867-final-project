{
 "cells": [
  {
   "cell_type": "code",
   "execution_count": 1,
   "metadata": {},
   "outputs": [
    {
     "name": "stderr",
     "output_type": "stream",
     "text": [
      "Using TensorFlow backend.\n"
     ]
    }
   ],
   "source": [
    "import numpy as np\n",
    "from sklearn.preprocessing import LabelEncoder\n",
    "import scipy.io.wavfile\n",
    "\n",
    "import keras\n",
    "from keras.utils import np_utils"
   ]
  },
  {
   "cell_type": "code",
   "execution_count": 2,
   "metadata": {},
   "outputs": [],
   "source": [
    "class VCBSequence(keras.utils.Sequence):\n",
    "    \n",
    "    def __init__(self, partition, crop_length=3, batch_size=512,\n",
    "                 shuffle=True, random_seed=42,\n",
    "                 vcb_root=\"/home/ubuntu/data/voxceleb1_wav\",\n",
    "                 split_txt=\"/home/ubuntu/data/id-split.txt\",):\n",
    "        \"\"\"\n",
    "        partition: one of \"train\", \"val\", \"test\"\n",
    "        crop_length: length to crop in seconds (int)\n",
    "        \"\"\"\n",
    "        partition_map = {\n",
    "            'train': 1,\n",
    "            'val': 2,\n",
    "            'test': 3\n",
    "        }\n",
    "        self.partition = partition_map[partition]\n",
    "        \n",
    "        self.sr = 16000\n",
    "        self.crop_length = crop_length\n",
    "        self.batch_size = batch_size\n",
    "        self.vcb_root = vcb_root\n",
    "        self.split_txt = split_txt\n",
    "        \n",
    "        with open(self.split_txt) as f:\n",
    "            lines = [line.rstrip() for line in f.readlines()]\n",
    "        \n",
    "        self.all_names = [line.split(\" \")[1].split(\"/\")[0] for line in lines]\n",
    "        self.encoder = LabelEncoder()\n",
    "        self.encoder.fit(self.all_names)\n",
    "        self.classes = np_utils.to_categorical(self.encoder.transform(self.all_names))\n",
    "        \n",
    "        self.paths = [line.split(\" \") for line in lines]\n",
    "        for i in range(len(self.paths)):\n",
    "            self.paths[i][0] = int(self.paths[i][0])\n",
    "        self.paths = list(filter(lambda x: x[0] == self.partition, self.paths))\n",
    "        self.paths = [p[1] for p in self.paths]\n",
    "        if shuffle:\n",
    "            np.random.seed(random_seed)\n",
    "            np.random.shuffle(self.paths)\n",
    "        \n",
    "        \n",
    "        \n",
    "    def __len__(self):\n",
    "        ret = len(self.paths) // self.batch_size\n",
    "        if len(self.paths) % len(self.paths) != 0:\n",
    "            ret += 1\n",
    "        return ret\n",
    "\n",
    "    def get_random_cropped_wavfile(self, path):\n",
    "        rate, data = scipy.io.wavfile.read(self.vcb_root + \"/\" + path)\n",
    "        assert rate == self.sr\n",
    "        length = len(data)\n",
    "        crop_start = np.random.randint(length - self.crop_length * self.sr)\n",
    "        crop = data[crop_start : crop_start + self.crop_length * self.sr]\n",
    "        return crop\n",
    "    \n",
    "    def __getitem__(self, idx):\n",
    "        batch_paths = self.paths[idx * self.batch_size:(idx + 1) * self.batch_size]\n",
    "        x = np.zeros((len(batch_paths), self.sr * self.crop_length))\n",
    "        for i, p in enumerate(batch_paths):\n",
    "            x[i] = self.get_random_cropped_wavfile(p)\n",
    "        \n",
    "        y = self.classes[idx * self.batch_size:(idx + 1) * self.batch_size]\n",
    "\n",
    "        return x, y"
   ]
  },
  {
   "cell_type": "code",
   "execution_count": 3,
   "metadata": {},
   "outputs": [
    {
     "name": "stdout",
     "output_type": "stream",
     "text": [
      "_________________________________________________________________\n",
      "Layer (type)                 Output Shape              Param #   \n",
      "=================================================================\n",
      "reshape_1 (Reshape)          (None, 1, 48000)          0         \n",
      "_________________________________________________________________\n",
      "melgram (Melspectrogram)     (None, 128, 375, 1)       296064    \n",
      "_________________________________________________________________\n",
      "normalization2d_1 (Normaliza (None, 128, 375, 1)       0         \n",
      "_________________________________________________________________\n",
      "reshape_2 (Reshape)          (None, 128, 375)          0         \n",
      "_________________________________________________________________\n",
      "permute_1 (Permute)          (None, 375, 128)          0         \n",
      "_________________________________________________________________\n",
      "lstm_1 (LSTM)                (None, 375, 256)          394240    \n",
      "_________________________________________________________________\n",
      "global_average_pooling1d_1 ( (None, 256)               0         \n",
      "_________________________________________________________________\n",
      "dense_1 (Dense)              (None, 1251)              321507    \n",
      "=================================================================\n",
      "Total params: 1,011,811\n",
      "Trainable params: 715,747\n",
      "Non-trainable params: 296,064\n",
      "_________________________________________________________________\n"
     ]
    }
   ],
   "source": [
    "import keras\n",
    "from keras.models import Sequential\n",
    "from keras.layers import LSTM, Dense\n",
    "from keras.callbacks import ModelCheckpoint\n",
    "from utils.custom_callbacks import TensorBoard\n",
    "\n",
    "import kapre\n",
    "from kapre.time_frequency import Melspectrogram\n",
    "\n",
    "\n",
    "HIDDEN_DIM = 256\n",
    "\n",
    "model = Sequential()\n",
    "\n",
    "sr = 16000 # sampling rate\n",
    "n_mels = 128\n",
    "n_fft = 512\n",
    "n_hop = 128\n",
    "model.add(keras.layers.Reshape((1, 3 * sr), input_shape=(3 * sr,)))\n",
    "model.add(Melspectrogram(sr=sr, n_mels=n_mels, \n",
    "      n_dft=n_fft, n_hop=n_hop, \n",
    "      return_decibel_melgram=True, power_melgram=2.0,\n",
    "      trainable_kernel=False, name='melgram'))\n",
    "\n",
    "\n",
    "NUM_PEOPLE = len(VCBSequence('test').encoder.classes_)\n",
    "model.add(kapre.utils.Normalization2D(int_axis=0))\n",
    "model.add(keras.layers.Reshape((n_mels, 375)))\n",
    "model.add(keras.layers.Permute((2, 1)))\n",
    "model.add(LSTM(HIDDEN_DIM, return_sequences=True))\n",
    "model.add(keras.layers.GlobalAveragePooling1D())\n",
    "model.add(Dense(NUM_PEOPLE, activation='softmax'))\n",
    "\n",
    "model.summary()"
   ]
  },
  {
   "cell_type": "code",
   "execution_count": 4,
   "metadata": {},
   "outputs": [],
   "source": [
    "LEARNING_RATE = 1e-4\n",
    "rmsprop = keras.optimizers.RMSprop(lr=LEARNING_RATE, rho=0.9, epsilon=1e-08, decay=0.0)\n",
    "\n",
    "model.compile(optimizer=rmsprop,\n",
    "              loss='categorical_crossentropy', # loss function to be optimized\n",
    "              metrics=['accuracy']) # doesn't affect optimization"
   ]
  },
  {
   "cell_type": "code",
   "execution_count": 5,
   "metadata": {},
   "outputs": [],
   "source": [
    "BATCH_SIZE = 512\n",
    "train_gen = VCBSequence('train', batch_size=BATCH_SIZE)\n",
    "val_gen = VCBSequence('val', batch_size=BATCH_SIZE)\n",
    "test_gen = VCBSequence('test', batch_size=BATCH_SIZE)"
   ]
  },
  {
   "cell_type": "code",
   "execution_count": 6,
   "metadata": {},
   "outputs": [],
   "source": [
    "checkpoint_filepath=\"/home/ubuntu/models/weights-improvement-{epoch:02d}-{val_acc:.2f}.hdf5\"\n",
    "checkpoint = ModelCheckpoint(checkpoint_filepath, monitor='val_acc', verbose=1, save_best_only=True, mode='max')\n",
    "\n",
    "tensorboard = TensorBoard(log_dir=\"/home/ubuntu/tflogs/cur\",\n",
    "                          write_batch_performance=True,\n",
    "                          histogram_freq=1,\n",
    "                          write_grads=True,\n",
    "                          batch_size=BATCH_SIZE)"
   ]
  },
  {
   "cell_type": "code",
   "execution_count": null,
   "metadata": {},
   "outputs": [
    {
     "name": "stdout",
     "output_type": "stream",
     "text": [
      "INFO:tensorflow:Summary name melgram/real_kernels:0 is illegal; using melgram/real_kernels_0 instead.\n",
      "INFO:tensorflow:Summary name melgram/real_kernels:0_grad is illegal; using melgram/real_kernels_0_grad instead.\n",
      "INFO:tensorflow:Summary name melgram/imag_kernels:0 is illegal; using melgram/imag_kernels_0 instead.\n",
      "INFO:tensorflow:Summary name melgram/imag_kernels:0_grad is illegal; using melgram/imag_kernels_0_grad instead.\n",
      "INFO:tensorflow:Summary name melgram/Variable:0 is illegal; using melgram/Variable_0 instead.\n",
      "INFO:tensorflow:Summary name melgram/Variable:0_grad is illegal; using melgram/Variable_0_grad instead.\n",
      "INFO:tensorflow:Summary name lstm_1/kernel:0 is illegal; using lstm_1/kernel_0 instead.\n",
      "INFO:tensorflow:Summary name lstm_1/kernel:0_grad is illegal; using lstm_1/kernel_0_grad instead.\n",
      "INFO:tensorflow:Summary name lstm_1/recurrent_kernel:0 is illegal; using lstm_1/recurrent_kernel_0 instead.\n",
      "INFO:tensorflow:Summary name lstm_1/recurrent_kernel:0_grad is illegal; using lstm_1/recurrent_kernel_0_grad instead.\n",
      "INFO:tensorflow:Summary name lstm_1/bias:0 is illegal; using lstm_1/bias_0 instead.\n",
      "INFO:tensorflow:Summary name lstm_1/bias:0_grad is illegal; using lstm_1/bias_0_grad instead.\n",
      "INFO:tensorflow:Summary name dense_1/kernel:0 is illegal; using dense_1/kernel_0 instead.\n",
      "INFO:tensorflow:Summary name dense_1/kernel:0_grad is illegal; using dense_1/kernel_0_grad instead.\n",
      "INFO:tensorflow:Summary name dense_1/bias:0 is illegal; using dense_1/bias_0 instead.\n",
      "INFO:tensorflow:Summary name dense_1/bias:0_grad is illegal; using dense_1/bias_0_grad instead.\n",
      "Epoch 1/10\n",
      "269/270 [============================>.] - ETA: 1s - loss: 7.1897 - acc: 2.5412e-04Epoch 00001: val_acc improved from -inf to 0.00165, saving model to /home/ubuntu/models/weights-improvement-01-0.00.hdf5\n",
      "270/270 [==============================] - 317s 1s/step - loss: 7.1896 - acc: 2.5318e-04 - val_loss: 7.1042 - val_acc: 0.0017\n",
      "Epoch 2/10\n",
      " 93/270 [=========>....................] - ETA: 3:21 - loss: 7.1134 - acc: 3.5702e-04"
     ]
    }
   ],
   "source": [
    "model.fit_generator(train_gen, validation_data=val_gen, epochs=10,\n",
    "                    callbacks=[checkpoint, tensorboard],\n",
    "                    workers=3)"
   ]
  },
  {
   "cell_type": "code",
   "execution_count": null,
   "metadata": {},
   "outputs": [],
   "source": [
    "model.evaluate_generator(train_gen)"
   ]
  },
  {
   "cell_type": "code",
   "execution_count": null,
   "metadata": {},
   "outputs": [],
   "source": [
    "model.evaluate_generator(val_gen)"
   ]
  },
  {
   "cell_type": "code",
   "execution_count": null,
   "metadata": {},
   "outputs": [],
   "source": [
    "model.evaluate_generator(test_gen)"
   ]
  },
  {
   "cell_type": "code",
   "execution_count": null,
   "metadata": {},
   "outputs": [],
   "source": []
  }
 ],
 "metadata": {
  "kernelspec": {
   "display_name": "Python 3",
   "language": "python",
   "name": "python3"
  },
  "language_info": {
   "codemirror_mode": {
    "name": "ipython",
    "version": 3
   },
   "file_extension": ".py",
   "mimetype": "text/x-python",
   "name": "python",
   "nbconvert_exporter": "python",
   "pygments_lexer": "ipython3",
   "version": "3.5.2"
  }
 },
 "nbformat": 4,
 "nbformat_minor": 2
}
