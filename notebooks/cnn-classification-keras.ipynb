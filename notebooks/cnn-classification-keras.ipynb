{
 "cells": [
  {
   "cell_type": "code",
   "execution_count": 2,
   "metadata": {},
   "outputs": [],
   "source": [
    "import numpy as np\n",
    "from sklearn.preprocessing import LabelEncoder\n",
    "import scipy.io.wavfile\n",
    "\n",
    "import keras\n",
    "from keras.utils import np_utils"
   ]
  },
  {
   "cell_type": "code",
   "execution_count": 3,
   "metadata": {},
   "outputs": [],
   "source": [
    "class VCBSequence(keras.utils.Sequence):\n",
    "    \n",
    "    def __init__(self, partition, crop_length=3, batch_size=512,\n",
    "                 shuffle=True, random_seed=42,\n",
    "                 sr=16000,\n",
    "                 vcb_root=\"/home/ubuntu/data/voxceleb1_wav\",\n",
    "                 split_txt=\"/home/ubuntu/data/id-split.txt\"):\n",
    "        \"\"\"\n",
    "        partition: one of \"train\", \"val\", \"test\"\n",
    "        crop_length: length to crop in seconds (int)\n",
    "        \"\"\"\n",
    "        partition_map = {\n",
    "            'train': 1,\n",
    "            'val': 2,\n",
    "            'test': 3\n",
    "        }\n",
    "        self.partition = partition_map[partition]\n",
    "        \n",
    "        self.sr = sr\n",
    "        self.crop_length = crop_length\n",
    "        self.batch_size = batch_size\n",
    "        self.vcb_root = vcb_root\n",
    "        self.split_txt = split_txt\n",
    "        \n",
    "        with open(self.split_txt) as f:\n",
    "            lines = [line.rstrip() for line in f.readlines()]\n",
    "        if shuffle:\n",
    "            np.random.seed(random_seed)\n",
    "            np.random.shuffle(lines)\n",
    "        \n",
    "        self.paths = [line.split(\" \") for line in lines]\n",
    "        for i in range(len(self.paths)):\n",
    "            self.paths[i][0] = int(self.paths[i][0])\n",
    "        \n",
    "        self.all_names = [p[1].split(\"/\")[0] for p in self.paths]\n",
    "        self.encoder = LabelEncoder()\n",
    "        self.encoder.fit(self.all_names)\n",
    "        self.classes = np_utils.to_categorical(self.encoder.transform(self.all_names))\n",
    "        keep = list(filter(lambda x: x[1][0] == self.partition, enumerate(self.paths)))\n",
    "        keep = [x[0] for x in keep]\n",
    "        self.classes = self.classes[keep]\n",
    "            \n",
    "        self.paths = list(filter(lambda x: x[0] == self.partition, self.paths))\n",
    "        self.paths = [p[1] for p in self.paths]\n",
    "        \n",
    "    def __len__(self):\n",
    "        ret = len(self.paths) // self.batch_size\n",
    "        if len(self.paths) % len(self.paths) != 0:\n",
    "            ret += 1\n",
    "        return ret\n",
    "\n",
    "    def get_random_cropped_wavfile(self, path):\n",
    "        rate, data = scipy.io.wavfile.read(self.vcb_root + \"/\" + path)\n",
    "        assert rate == self.sr\n",
    "        length = len(data)\n",
    "        crop_start = np.random.randint(length - self.crop_length * self.sr)\n",
    "        crop = data[crop_start : crop_start + self.crop_length * self.sr]\n",
    "        return crop\n",
    "    \n",
    "    def __getitem__(self, idx):\n",
    "        batch_paths = self.paths[idx * self.batch_size:(idx + 1) * self.batch_size]\n",
    "        x = np.zeros((len(batch_paths), self.sr * self.crop_length))\n",
    "        for i, p in enumerate(batch_paths):\n",
    "            x[i] = self.get_random_cropped_wavfile(p)\n",
    "        \n",
    "        y = self.classes[idx * self.batch_size : min((idx + 1) * self.batch_size,\n",
    "                                                     self.classes.shape[0])]\n",
    "        \n",
    "        return x, y"
   ]
  },
  {
   "cell_type": "code",
   "execution_count": 31,
   "metadata": {},
   "outputs": [
    {
     "name": "stdout",
     "output_type": "stream",
     "text": [
      "_________________________________________________________________\n",
      "Layer (type)                 Output Shape              Param #   \n",
      "=================================================================\n",
      "reshape_29 (Reshape)         (None, 1, 32000)          0         \n",
      "_________________________________________________________________\n",
      "melgram (Melspectrogram)     (None, 128, 250, 1)       296064    \n",
      "_________________________________________________________________\n",
      "normalization2d_23 (Normaliz (None, 128, 250, 1)       0         \n",
      "_________________________________________________________________\n",
      "conv2d_98 (Conv2D)           (None, 61, 122, 96)       4800      \n",
      "_________________________________________________________________\n",
      "max_pooling2d_53 (MaxPooling (None, 30, 60, 96)        0         \n",
      "_________________________________________________________________\n",
      "conv2d_99 (Conv2D)           (None, 13, 28, 256)       614656    \n",
      "_________________________________________________________________\n",
      "max_pooling2d_54 (MaxPooling (None, 6, 13, 256)        0         \n",
      "_________________________________________________________________\n",
      "conv2d_100 (Conv2D)          (None, 6, 13, 256)        590080    \n",
      "_________________________________________________________________\n",
      "conv2d_101 (Conv2D)          (None, 6, 13, 256)        590080    \n",
      "_________________________________________________________________\n",
      "conv2d_102 (Conv2D)          (None, 6, 13, 256)        590080    \n",
      "_________________________________________________________________\n",
      "max_pooling2d_55 (MaxPooling (None, 4, 11, 256)        0         \n",
      "_________________________________________________________________\n",
      "conv2d_103 (Conv2D)          (None, 1, 11, 4096)       4198400   \n",
      "_________________________________________________________________\n",
      "average_pooling2d_8 (Average (None, 1, 1, 4096)        0         \n",
      "_________________________________________________________________\n",
      "reshape_30 (Reshape)         (None, 4096)              0         \n",
      "_________________________________________________________________\n",
      "dense_8 (Dense)              (None, 1024)              4195328   \n",
      "_________________________________________________________________\n",
      "dense_9 (Dense)              (None, 1251)              1282275   \n",
      "=================================================================\n",
      "Total params: 12,361,763\n",
      "Trainable params: 12,065,699\n",
      "Non-trainable params: 296,064\n",
      "_________________________________________________________________\n"
     ]
    }
   ],
   "source": [
    "import keras\n",
    "from keras.models import Sequential\n",
    "from keras.layers import LSTM, Dense, Conv2D, MaxPooling2D, AveragePooling2D\n",
    "\n",
    "import kapre\n",
    "from kapre.time_frequency import Melspectrogram\n",
    "\n",
    "\n",
    "HIDDEN_DIM = 256\n",
    "\n",
    "model = Sequential()\n",
    "\n",
    "SR = 16000 # sampling rate\n",
    "CROP_LENGTH = 2\n",
    "BATCH_SIZE = 512\n",
    "#train_gen = VCBSequence('train', sr=SR, crop_length=CROP_LENGTH, batch_size=BATCH_SIZE)\n",
    "#val_data = VCBSequence('val', sr=SR, crop_length=CROP_LENGTH, batch_size=10000)[0]\n",
    "#test_gen = VCBSequence('test', sr=SR, crop_length=CROP_LENGTH, batch_size=BATCH_SIZE)\n",
    "model.add(keras.layers.Reshape((1, CROP_LENGTH * SR), input_shape=(CROP_LENGTH * SR,)))\n",
    "\n",
    "N_MELS = 128\n",
    "N_FFT = 512\n",
    "N_HOP = 128\n",
    "model.add(Melspectrogram(sr=SR, n_mels=N_MELS, \n",
    "      n_dft=N_FFT, n_hop=N_HOP, \n",
    "      return_decibel_melgram=True, power_melgram=2.0,\n",
    "      trainable_kernel=False, name='melgram'))\n",
    "model.add(kapre.utils.Normalization2D(int_axis=2))\n",
    "model.add(Conv2D(96, 7, strides=(2,2), activation='relu'))\n",
    "model.add(MaxPooling2D(pool_size=(3,3), strides=(2,2)))\n",
    "model.add(Conv2D(256, 5, strides=(2,2), activation='relu'))\n",
    "model.add(MaxPooling2D(pool_size=(3,3), strides=(2,2)))\n",
    "model.add(Conv2D(256, 3, activation='relu', padding='same'))\n",
    "model.add(Conv2D(256, 3, activation='relu', padding='same'))\n",
    "model.add(Conv2D(256, 3, activation='relu', padding='same'))\n",
    "model.add(MaxPooling2D(pool_size=(3,3), strides=(1,1)))\n",
    "model.add(Conv2D(4096, (4,1)))\n",
    "model.add(AveragePooling2D(pool_size=(1,11)))\n",
    "model.add(keras.layers.Reshape((4096,)))\n",
    "model.add(Dense(1024, activation='relu'))\n",
    "NUM_PEOPLE = len(VCBSequence('test').encoder.classes_)\n",
    "model.add(Dense(NUM_PEOPLE, activation='softmax'))\n",
    "\n",
    "model.summary()"
   ]
  },
  {
   "cell_type": "code",
   "execution_count": 4,
   "metadata": {},
   "outputs": [
    {
     "name": "stdout",
     "output_type": "stream",
     "text": [
      "(6904, 32000) (6904, 1251)\n"
     ]
    }
   ],
   "source": [
    "print(val_data[0].shape, val_data[1].shape)"
   ]
  },
  {
   "cell_type": "code",
   "execution_count": 6,
   "metadata": {},
   "outputs": [],
   "source": [
    "model = keras.models.load_model(\"/home/ubuntu/models/save/2second-crop-05-0.28.hdf5\",\n",
    "                                custom_objects={\n",
    "                                    \"Melspectrogram\": Melspectrogram,\n",
    "                                    \"Normalization2D\": kapre.utils.Normalization2D\n",
    "                                })"
   ]
  },
  {
   "cell_type": "code",
   "execution_count": null,
   "metadata": {},
   "outputs": [],
   "source": [
    "LEARNING_RATE = 1e-3\n",
    "rmsprop = keras.optimizers.Adam(lr=LEARNING_RATE)\n",
    "\n",
    "model.compile(optimizer=rmsprop,\n",
    "              loss='categorical_crossentropy', # loss function to be optimized\n",
    "              metrics=['accuracy']) # doesn't affect optimization"
   ]
  },
  {
   "cell_type": "code",
   "execution_count": 7,
   "metadata": {},
   "outputs": [],
   "source": [
    "from keras.callbacks import ModelCheckpoint, ReduceLROnPlateau\n",
    "from utils.custom_callbacks import TensorBoard\n",
    "\n",
    "checkpoint_filepath=\"/home/ubuntu/models/2second-crop-{epoch:02d}-{val_acc:.2f}.hdf5\"\n",
    "checkpoint = ModelCheckpoint(checkpoint_filepath, monitor='val_acc', verbose=1, save_best_only=True, mode='max')\n",
    "\n",
    "tensorboard = TensorBoard(log_dir=\"/home/ubuntu/tflogs/cur\",\n",
    "                          write_batch_performance=True,\n",
    "                          write_graph=False,\n",
    "                          histogram_freq=1,\n",
    "                          write_grads=True,\n",
    "                          batch_size=BATCH_SIZE)\n",
    "\n",
    "reduce_lr = ReduceLROnPlateau(monitor='val_loss', factor=0.2,\n",
    "                              patience=5, min_lr=1e-5)"
   ]
  },
  {
   "cell_type": "code",
   "execution_count": null,
   "metadata": {},
   "outputs": [
    {
     "name": "stdout",
     "output_type": "stream",
     "text": [
      "INFO:tensorflow:Summary name melgram_1/real_kernels:0 is illegal; using melgram_1/real_kernels_0 instead.\n",
      "INFO:tensorflow:Summary name melgram_1/real_kernels:0_grad is illegal; using melgram_1/real_kernels_0_grad instead.\n",
      "INFO:tensorflow:Summary name melgram_1/imag_kernels:0 is illegal; using melgram_1/imag_kernels_0 instead.\n",
      "INFO:tensorflow:Summary name melgram_1/imag_kernels:0_grad is illegal; using melgram_1/imag_kernels_0_grad instead.\n",
      "INFO:tensorflow:Summary name melgram_1/Variable:0 is illegal; using melgram_1/Variable_0 instead.\n",
      "INFO:tensorflow:Summary name melgram_1/Variable:0_grad is illegal; using melgram_1/Variable_0_grad instead.\n",
      "INFO:tensorflow:Summary name lstm_1_1/kernel:0 is illegal; using lstm_1_1/kernel_0 instead.\n",
      "INFO:tensorflow:Summary name lstm_1_1/kernel:0_grad is illegal; using lstm_1_1/kernel_0_grad instead.\n",
      "INFO:tensorflow:Summary name lstm_1_1/recurrent_kernel:0 is illegal; using lstm_1_1/recurrent_kernel_0 instead.\n",
      "INFO:tensorflow:Summary name lstm_1_1/recurrent_kernel:0_grad is illegal; using lstm_1_1/recurrent_kernel_0_grad instead.\n",
      "INFO:tensorflow:Summary name lstm_1_1/bias:0 is illegal; using lstm_1_1/bias_0 instead.\n",
      "INFO:tensorflow:Summary name lstm_1_1/bias:0_grad is illegal; using lstm_1_1/bias_0_grad instead.\n",
      "INFO:tensorflow:Summary name dense_1_1/kernel:0 is illegal; using dense_1_1/kernel_0 instead.\n",
      "INFO:tensorflow:Summary name dense_1_1/kernel:0_grad is illegal; using dense_1_1/kernel_0_grad instead.\n",
      "INFO:tensorflow:Summary name dense_1_1/bias:0 is illegal; using dense_1_1/bias_0 instead.\n",
      "INFO:tensorflow:Summary name dense_1_1/bias:0_grad is illegal; using dense_1_1/bias_0_grad instead.\n",
      "Epoch 1/30\n",
      "269/270 [============================>.] - ETA: 0s - loss: 1.2873 - acc: 0.7180Epoch 00001: val_acc improved from -inf to 0.29389, saving model to /home/ubuntu/models/2second-crop-01-0.29.hdf5\n",
      "270/270 [==============================] - 250s 927ms/step - loss: 1.2870 - acc: 0.7181 - val_loss: 3.6918 - val_acc: 0.2939\n",
      "Epoch 2/30\n",
      "269/270 [============================>.] - ETA: 0s - loss: 1.2363 - acc: 0.7273Epoch 00002: val_acc improved from 0.29389 to 0.29606, saving model to /home/ubuntu/models/2second-crop-02-0.30.hdf5\n",
      "270/270 [==============================] - 247s 916ms/step - loss: 1.2365 - acc: 0.7273 - val_loss: 3.6712 - val_acc: 0.2961\n",
      "Epoch 3/30\n",
      "269/270 [============================>.] - ETA: 0s - loss: 1.2033 - acc: 0.7343Epoch 00003: val_acc improved from 0.29606 to 0.30490, saving model to /home/ubuntu/models/2second-crop-03-0.30.hdf5\n",
      "270/270 [==============================] - 247s 916ms/step - loss: 1.2025 - acc: 0.7346 - val_loss: 3.6181 - val_acc: 0.3049\n",
      "Epoch 4/30\n",
      "269/270 [============================>.] - ETA: 0s - loss: 1.1572 - acc: 0.7443Epoch 00004: val_acc improved from 0.30490 to 0.31112, saving model to /home/ubuntu/models/2second-crop-04-0.31.hdf5\n",
      "270/270 [==============================] - 248s 917ms/step - loss: 1.1576 - acc: 0.7443 - val_loss: 3.5996 - val_acc: 0.3111\n",
      "Epoch 5/30\n",
      "269/270 [============================>.] - ETA: 0s - loss: 0.8319 - acc: 0.8110Epoch 00017: val_acc did not improve\n",
      "270/270 [==============================] - 247s 916ms/step - loss: 0.8321 - acc: 0.8110 - val_loss: 3.5126 - val_acc: 0.3404\n",
      "Epoch 18/30\n",
      "269/270 [============================>.] - ETA: 0s - loss: 0.8116 - acc: 0.8144Epoch 00018: val_acc did not improve\n",
      "270/270 [==============================] - 247s 916ms/step - loss: 0.8116 - acc: 0.8145 - val_loss: 3.4835 - val_acc: 0.3404\n",
      "Epoch 19/30\n",
      " 97/270 [=========>....................] - ETA: 2:10 - loss: 0.7804 - acc: 0.8232"
     ]
    }
   ],
   "source": [
    "model.fit_generator(train_gen, validation_data=val_data, epochs=30,\n",
    "                    callbacks=[checkpoint, tensorboard, reduce_lr],\n",
    "                    workers=3)"
   ]
  },
  {
   "cell_type": "code",
   "execution_count": null,
   "metadata": {},
   "outputs": [],
   "source": [
    "model.evaluate_generator(train_gen)"
   ]
  },
  {
   "cell_type": "code",
   "execution_count": null,
   "metadata": {},
   "outputs": [],
   "source": [
    "model.evaluate_generator(val_gen)"
   ]
  },
  {
   "cell_type": "code",
   "execution_count": null,
   "metadata": {},
   "outputs": [],
   "source": [
    "model.evaluate_generator(test_gen)"
   ]
  },
  {
   "cell_type": "code",
   "execution_count": null,
   "metadata": {},
   "outputs": [],
   "source": [
    "np.arange(10).reshape(5, 2)[[0,2,4]]"
   ]
  },
  {
   "cell_type": "code",
   "execution_count": null,
   "metadata": {},
   "outputs": [],
   "source": []
  },
  {
   "cell_type": "code",
   "execution_count": null,
   "metadata": {},
   "outputs": [],
   "source": []
  }
 ],
 "metadata": {
  "kernelspec": {
   "display_name": "Python [conda env:tensorflow_p36]",
   "language": "python",
   "name": "conda-env-tensorflow_p36-py"
  }
 },
 "nbformat": 4,
 "nbformat_minor": 2
}
